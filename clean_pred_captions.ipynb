{
 "cells": [
  {
   "cell_type": "code",
   "execution_count": 1,
   "metadata": {},
   "outputs": [
    {
     "name": "stderr",
     "output_type": "stream",
     "text": [
      "/home/sweta/scratch/miniconda3/envs/project_q1/lib/python3.7/site-packages/tqdm/auto.py:22: TqdmWarning: IProgress not found. Please update jupyter and ipywidgets. See https://ipywidgets.readthedocs.io/en/stable/user_install.html\n",
      "  from .autonotebook import tqdm as notebook_tqdm\n"
     ]
    }
   ],
   "source": [
    "import json\n",
    "import os\n",
    "from tqdm.auto import tqdm"
   ]
  },
  {
   "cell_type": "code",
   "execution_count": 2,
   "metadata": {},
   "outputs": [],
   "source": [
    "FOLDER = '/home/sweta/adv_cv_project/Medical-Report-Generation/try4/v4/20221109-19:21/results'\n",
    "FILE = 'train.json'\n",
    "\n",
    "with open(os.path.join(FOLDER,FILE),'r') as f:\n",
    "    dct = json.load(f)"
   ]
  },
  {
   "cell_type": "code",
   "execution_count": 7,
   "metadata": {},
   "outputs": [],
   "source": [
    "def clean_dct(dct):\n",
    "    for i in tqdm(dct.keys()):\n",
    "        t = dct[i]['Pred Sent'].values()\n",
    "        rr = list(set(t))\n",
    "        flst = [rr[k].replace('no acute cardiopulmonary <unk>','') if k!= 0 else rr[k] for k in range(len(rr))]\n",
    "        rdct = {}\n",
    "        for j in range(len(flst)):\n",
    "            rdct[str(j)] = flst[j]\n",
    "            \n",
    "        while(j<5):\n",
    "            rdct[str(j+1)] = ''\n",
    "            j += 1\n",
    "        \n",
    "        dct[i]['Pred Sent'] = rdct\n",
    "    return dct"
   ]
  },
  {
   "cell_type": "code",
   "execution_count": 8,
   "metadata": {},
   "outputs": [
    {
     "name": "stderr",
     "output_type": "stream",
     "text": [
      "100%|██████████| 3832/3832 [00:00<00:00, 135618.65it/s]\n"
     ]
    }
   ],
   "source": [
    "res = clean_dct(dct)"
   ]
  },
  {
   "cell_type": "code",
   "execution_count": 9,
   "metadata": {},
   "outputs": [],
   "source": [
    "with open(os.path.join(FOLDER,'cleaned_'+FILE),'w') as f:\n",
    "    json.dump(res, f)"
   ]
  },
  {
   "cell_type": "code",
   "execution_count": null,
   "metadata": {},
   "outputs": [],
   "source": []
  }
 ],
 "metadata": {
  "kernelspec": {
   "display_name": "Python 3.7.0 ('project_q1': conda)",
   "language": "python",
   "name": "python3"
  },
  "language_info": {
   "codemirror_mode": {
    "name": "ipython",
    "version": 3
   },
   "file_extension": ".py",
   "mimetype": "text/x-python",
   "name": "python",
   "nbconvert_exporter": "python",
   "pygments_lexer": "ipython3",
   "version": "3.7.0"
  },
  "orig_nbformat": 4,
  "vscode": {
   "interpreter": {
    "hash": "d9626ea2c916915d48cfb03133c72bc5d2ee58dc0ba56f366766da4becf19d00"
   }
  }
 },
 "nbformat": 4,
 "nbformat_minor": 2
}
