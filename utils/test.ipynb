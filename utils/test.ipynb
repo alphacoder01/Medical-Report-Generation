{
 "cells": [
  {
   "cell_type": "code",
   "execution_count": 1,
   "metadata": {},
   "outputs": [],
   "source": [
    "import os\n",
    "import pandas as pd\n",
    "import numpy as np\n",
    "import json"
   ]
  },
  {
   "cell_type": "code",
   "execution_count": 2,
   "metadata": {},
   "outputs": [],
   "source": [
    "static_tags_name = ['cardiac monitor', 'lymphatic diseases', 'pulmonary disease', 'osteophytes', 'foreign body',\n",
    "                        'dish', 'aorta, thoracic', 'atherosclerosis', 'histoplasmosis', 'hypoventilation',\n",
    "                        'catheterization, central venous', 'pleural effusions', 'pleural effusion', 'callus',\n",
    "                        'sternotomy', 'lymph nodes', 'tortuous aorta', 'stent', 'interstitial pulmonary edema',\n",
    "                        'cholecystectomies', 'neoplasm', 'central venous catheter', 'pneumothorax',\n",
    "                        'metastatic disease', 'vena cava, superior', 'cholecystectomy', 'scoliosis',\n",
    "                        'subcutaneous emphysema', 'thoracolumbar scoliosis', 'spinal osteophytosis',\n",
    "                        'pulmonary fibroses', 'rib fractures', 'sarcoidosis', 'eventration', 'fibrosis', 'spine',\n",
    "                        'obstructive lung disease', 'pneumonitis', 'osteopenia', 'air trapping', 'demineralization',\n",
    "                        'mass lesion', 'pulmonary hypertension', 'pleural diseases', 'pleural thickening',\n",
    "                        'calcifications of the aorta', 'calcinosis', 'cystic fibrosis', 'empyema', 'catheter',\n",
    "                        'lymph', 'pericardial effusion', 'lung cancer', 'rib fracture', 'granulomatous disease',\n",
    "                        'chronic obstructive pulmonary disease', 'rib', 'clip', 'aortic ectasia', 'shoulder',\n",
    "                        'scarring', 'scleroses', 'adenopathy', 'emphysemas', 'pneumonectomy', 'infection',\n",
    "                        'aspiration', 'bilateral pleural effusion', 'bulla', 'lumbar vertebrae', 'lung neoplasms',\n",
    "                        'lymphadenopathy', 'hyperexpansion', 'ectasia', 'bronchiectasis', 'nodule', 'pneumonia',\n",
    "                        'right-sided pleural effusion', 'osteoarthritis', 'thoracic spondylosis', 'picc',\n",
    "                        'cervical fusion', 'tracheostomies', 'fusion', 'thoracic vertebrae', 'catheters',\n",
    "                        'emphysema', 'trachea', 'surgery', 'cervical spine fusion', 'hypertension, pulmonary',\n",
    "                        'pneumoperitoneum', 'scar', 'atheroscleroses', 'aortic calcifications', 'volume overload',\n",
    "                        'right upper lobe pneumonia', 'apical granuloma', 'diaphragms', 'copd', 'kyphoses',\n",
    "                        'spinal fractures', 'fracture', 'clavicle', 'focal atelectasis', 'collapse',\n",
    "                        'thoracotomies', 'congestive heart failure', 'calcified lymph nodes', 'edema',\n",
    "                        'degenerative disc diseases', 'cervical vertebrae', 'diaphragm', 'humerus', 'heart failure',\n",
    "                        'normal', 'coronary artery bypass', 'pulmonary atelectasis', 'lung diseases, interstitial',\n",
    "                        'pulmonary disease, chronic obstructive', 'opacity', 'deformity', 'chronic disease',\n",
    "                        'pleura', 'aorta', 'tuberculoses', 'hiatal hernia', 'scolioses', 'pleural fluid',\n",
    "                        'malignancy', 'kyphosis', 'bronchiectases', 'congestion', 'discoid atelectasis', 'nipple',\n",
    "                        'bronchitis', 'pulmonary artery', 'cardiomegaly', 'thoracic aorta', 'arthritic changes',\n",
    "                        'pulmonary edema', 'vascular calcification', 'sclerotic', 'central venous catheters',\n",
    "                        'catheterization', 'hydropneumothorax', 'aortic valve', 'hyperinflation', 'prostheses',\n",
    "                        'pacemaker, artificial', 'bypass grafts', 'pulmonary fibrosis', 'multiple myeloma',\n",
    "                        'postoperative period', 'cabg', 'right lower lobe pneumonia', 'granuloma',\n",
    "                        'degenerative change', 'atelectasis', 'inflammation', 'effusion', 'cicatrix',\n",
    "                        'tracheostomy', 'aortic diseases', 'sarcoidoses', 'granulomas', 'interstitial lung disease',\n",
    "                        'infiltrates', 'displaced fractures', 'chronic lung disease', 'picc line',\n",
    "                        'intubation, gastrointestinal', 'lung diseases', 'multiple pulmonary nodules',\n",
    "                        'intervertebral disc degeneration', 'pulmonary emphysema', 'spine curvature', 'fibroses',\n",
    "                        'chronic granulomatous disease', 'degenerative disease', 'atelectases', 'ribs',\n",
    "                        'pulmonary arterial hypertension', 'edemas', 'pectus excavatum', 'lung granuloma',\n",
    "                        'plate-like atelectasis', 'enlarged heart', 'hilar calcification', 'heart valve prosthesis',\n",
    "                        'tuberculosis', 'old injury', 'patchy atelectasis', 'histoplasmoses', 'exostoses',\n",
    "                        'mastectomies', 'right atrium', 'large hiatal hernia', 'hernia, hiatal', 'aortic aneurysm',\n",
    "                        'lobectomy', 'spinal fusion', 'spondylosis', 'ascending aorta', 'granulomatous infection',\n",
    "                        'fractures, bone', 'calcified granuloma', 'degenerative joint disease',\n",
    "                        'intubation, intratracheal', 'others']"
   ]
  },
  {
   "cell_type": "code",
   "execution_count": 3,
   "metadata": {},
   "outputs": [
    {
     "data": {
      "text/plain": [
       "210"
      ]
     },
     "execution_count": 3,
     "metadata": {},
     "output_type": "execute_result"
    }
   ],
   "source": [
    "len(static_tags_name)"
   ]
  },
  {
   "cell_type": "code",
   "execution_count": 3,
   "metadata": {},
   "outputs": [],
   "source": [
    "TRAIN_PATH = '../../../scratch/datasets/IUX_DATA/Train'\n",
    "VAL_PATH = '../../../scratch/datasets/IUX_DATA/Val'"
   ]
  },
  {
   "cell_type": "code",
   "execution_count": 4,
   "metadata": {},
   "outputs": [],
   "source": [
    "train_report = pd.read_csv(os.path.join(TRAIN_PATH, 'report.csv'))\n",
    "val_report = pd.read_csv(os.path.join(VAL_PATH, 'report.csv'))"
   ]
  },
  {
   "cell_type": "code",
   "execution_count": 5,
   "metadata": {},
   "outputs": [],
   "source": [
    "train_proj = pd.read_csv(os.path.join(TRAIN_PATH, 'projections.csv'))\n",
    "val_proj = pd.read_csv(os.path.join(VAL_PATH, 'projections.csv'))"
   ]
  },
  {
   "cell_type": "code",
   "execution_count": 6,
   "metadata": {},
   "outputs": [],
   "source": [
    "train_report.fillna('', inplace=True)\n",
    "val_report.fillna('', inplace=True)"
   ]
  },
  {
   "cell_type": "code",
   "execution_count": 7,
   "metadata": {},
   "outputs": [],
   "source": [
    "train = pd.merge(train_proj,train_report,on='0')"
   ]
  },
  {
   "cell_type": "code",
   "execution_count": 8,
   "metadata": {},
   "outputs": [],
   "source": [
    "val = pd.merge(val_proj,val_report,on='0')"
   ]
  },
  {
   "cell_type": "code",
   "execution_count": 9,
   "metadata": {},
   "outputs": [],
   "source": [
    "with open('../data/new_data/train_data.txt','r') as f:\n",
    "    trainlst = f.readlines()\n",
    "\n",
    "with open('../data/new_data/test_data.txt','r') as f:\n",
    "    testlst = f.readlines()\n",
    "\n",
    "with open('../data/new_data/val_data.txt','r') as f:\n",
    "    vallst = f.readlines()"
   ]
  },
  {
   "cell_type": "code",
   "execution_count": 25,
   "metadata": {},
   "outputs": [
    {
     "data": {
      "text/plain": [
       "'CXR1000_IM-0003-1001'"
      ]
     },
     "execution_count": 25,
     "metadata": {},
     "output_type": "execute_result"
    }
   ],
   "source": [
    "trainlst[0].split(' ')[0]"
   ]
  },
  {
   "cell_type": "code",
   "execution_count": 27,
   "metadata": {},
   "outputs": [],
   "source": [
    "# train"
   ]
  },
  {
   "cell_type": "code",
   "execution_count": 11,
   "metadata": {},
   "outputs": [
    {
     "data": {
      "text/plain": [
       "0          3_IM-1384-1001.dcm.png\n",
       "1          3_IM-1384-2001.dcm.png\n",
       "2       5_IM-2117-1003002.dcm.png\n",
       "3       5_IM-2117-1004003.dcm.png\n",
       "4          6_IM-2192-1001.dcm.png\n",
       "                  ...            \n",
       "3827    3992_IM-2044-2001.dcm.png\n",
       "3828    3995_IM-2046-1001.dcm.png\n",
       "3829    3995_IM-2046-2001.dcm.png\n",
       "3830    3999_IM-2049-1001.dcm.png\n",
       "3831    3999_IM-2049-2001.dcm.png\n",
       "Name: 1_x, Length: 3832, dtype: object"
      ]
     },
     "execution_count": 11,
     "metadata": {},
     "output_type": "execute_result"
    }
   ],
   "source": [
    "train['1_x']"
   ]
  },
  {
   "cell_type": "code",
   "execution_count": 12,
   "metadata": {},
   "outputs": [],
   "source": [
    "def search_df(df,col,query):\n",
    "    for i in range(len(df)):\n",
    "        if query in df[col].iloc[i]:\n",
    "            return i"
   ]
  },
  {
   "cell_type": "code",
   "execution_count": 24,
   "metadata": {},
   "outputs": [],
   "source": [
    "def search_lst(lst,query):\n",
    "    for i in range(len(lst)):\n",
    "        if query in lst[i].split(' ')[0]:\n",
    "            return lst[i]\n",
    "    return -1"
   ]
  },
  {
   "cell_type": "code",
   "execution_count": 14,
   "metadata": {},
   "outputs": [
    {
     "name": "stderr",
     "output_type": "stream",
     "text": [
      "/home/sweta/scratch/miniconda3/envs/py38/lib/python3.8/site-packages/tqdm/auto.py:22: TqdmWarning: IProgress not found. Please update jupyter and ipywidgets. See https://ipywidgets.readthedocs.io/en/stable/user_install.html\n",
      "  from .autonotebook import tqdm as notebook_tqdm\n"
     ]
    }
   ],
   "source": [
    "from tqdm.auto import tqdm"
   ]
  },
  {
   "cell_type": "code",
   "execution_count": 29,
   "metadata": {},
   "outputs": [
    {
     "name": "stderr",
     "output_type": "stream",
     "text": [
      "100%|██████████| 3832/3832 [00:56<00:00, 68.14it/s] \n"
     ]
    }
   ],
   "source": [
    "imgfound = []\n",
    "notFound = []\n",
    "for i in tqdm(range(len(train))):\n",
    "    query = train['1_x'].iloc[i].replace('.dcm.png','').split('_')[1]\n",
    "    inTrain = search_lst(trainlst,query)\n",
    "    inTest = search_lst(testlst, query)\n",
    "    inVal = search_lst(vallst, query)\n",
    "    # print(inTrain, inTest, inVal)\n",
    "    if inTrain == -1 and inTest==-1 and inVal==-1:\n",
    "        print(inTrain, inTest, inVal)\n",
    "        imgfound.append(-1)\n",
    "        print(train['1_x'].iloc[i])\n",
    "        notFound.append(query)\n",
    "    else:\n",
    "        if inTrain != -1:\n",
    "            name = inTrain.split(' ')[0]\n",
    "            imgfound.append(inTrain.replace(name, train['1_x'].iloc[i].replace('.dcm.png','')))\n",
    "        elif inTest != -1:\n",
    "            name = inTest.split(' ')[0]\n",
    "            imgfound.append(inTest.replace(name, train['1_x'].iloc[i].replace('.dcm.png','')))\n",
    "        else:\n",
    "            name = inVal.split(' ')[0]\n",
    "            imgfound.append(inVal.replace(name, train['1_x'].iloc[i].replace('.dcm.png','')))\n"
   ]
  },
  {
   "cell_type": "code",
   "execution_count": 30,
   "metadata": {},
   "outputs": [
    {
     "data": {
      "text/plain": [
       "0"
      ]
     },
     "execution_count": 30,
     "metadata": {},
     "output_type": "execute_result"
    }
   ],
   "source": [
    "len(notFound)"
   ]
  },
  {
   "cell_type": "code",
   "execution_count": 31,
   "metadata": {},
   "outputs": [
    {
     "data": {
      "text/plain": [
       "[]"
      ]
     },
     "execution_count": 31,
     "metadata": {},
     "output_type": "execute_result"
    }
   ],
   "source": [
    "notFound"
   ]
  },
  {
   "cell_type": "code",
   "execution_count": 19,
   "metadata": {},
   "outputs": [],
   "source": [
    "# imgfound"
   ]
  },
  {
   "cell_type": "code",
   "execution_count": 33,
   "metadata": {},
   "outputs": [],
   "source": [
    "with open('../data/new_data/subset_train_data.txt','w') as f:\n",
    "    f.writelines(imgfound)"
   ]
  },
  {
   "cell_type": "code",
   "execution_count": null,
   "metadata": {},
   "outputs": [],
   "source": []
  },
  {
   "cell_type": "code",
   "execution_count": 34,
   "metadata": {},
   "outputs": [],
   "source": [
    "imgfound = []\n",
    "notFound = []\n",
    "for i in (range(len(val))):\n",
    "    query = val['1_x'].iloc[i].replace('.dcm.png','').split('_')[1]\n",
    "    inTrain = search_lst(trainlst,query)\n",
    "    inTest = search_lst(testlst, query)\n",
    "    inVal = search_lst(vallst, query)\n",
    "    # print(inTrain, inTest, inVal)\n",
    "    if inTrain == -1 and inTest==-1 and inVal==-1:\n",
    "        print(inTrain, inTest, inVal)\n",
    "        imgfound.append(-1)\n",
    "        print(train['1_x'].iloc[i])\n",
    "        notFound.append(query)\n",
    "    else:\n",
    "        if inTrain != -1:\n",
    "            name = inTrain.split(' ')[0]\n",
    "            imgfound.append(inTrain.replace(name, val['1_x'].iloc[i].replace('.dcm.png','')))\n",
    "        elif inTest != -1:\n",
    "            name = inTest.split(' ')[0]\n",
    "            imgfound.append(inTest.replace(name, val['1_x'].iloc[i].replace('.dcm.png','')))\n",
    "        else:\n",
    "            name = inVal.split(' ')[0]\n",
    "            imgfound.append(inVal.replace(name, val['1_x'].iloc[i].replace('.dcm.png','')))\n"
   ]
  },
  {
   "cell_type": "code",
   "execution_count": 35,
   "metadata": {},
   "outputs": [],
   "source": [
    "with open('../data/new_data/subset_val_data.txt','w') as f:\n",
    "    f.writelines(imgfound)"
   ]
  },
  {
   "cell_type": "code",
   "execution_count": null,
   "metadata": {},
   "outputs": [],
   "source": []
  }
 ],
 "metadata": {
  "interpreter": {
   "hash": "a2061b166dac01908a0f4a5ba1d22c95daad8f159675dc38080e034f724a8b94"
  },
  "kernelspec": {
   "display_name": "Python 3.8.0 ('py38': conda)",
   "language": "python",
   "name": "python3"
  },
  "language_info": {
   "codemirror_mode": {
    "name": "ipython",
    "version": 3
   },
   "file_extension": ".py",
   "mimetype": "text/x-python",
   "name": "python",
   "nbconvert_exporter": "python",
   "pygments_lexer": "ipython3",
   "version": "3.8.0"
  },
  "orig_nbformat": 4
 },
 "nbformat": 4,
 "nbformat_minor": 2
}
